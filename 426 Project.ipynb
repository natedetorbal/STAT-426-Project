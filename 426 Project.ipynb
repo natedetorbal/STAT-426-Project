{
 "cells": [
  {
   "attachments": {},
   "cell_type": "markdown",
   "metadata": {},
   "source": [
    "Question: Is there a better measure of success than yards gained?\n",
    "\n",
    "Historically it has been thought that the best way to measure how efficient a football team is to look at how many yards a team gained or allowed to be gained. This way of looking at team efficiency is good, but not the best way becuase not all yards are created equally. For example, A 4-yard gain on 3rd & 2 is much more valuable than a 4-yard gain on 3rd & 16. Those four yards gained lack context. With this project, I will attempt to give context to those 4 yards gained. \n",
    "\n",
    "      - There is a statistic/metric in football named Expected Points Added (EPA). This metric attempts to measure the impact of one play on the outcome of the game. Explanation of EPA: For further explanation of EPA see the following link: https://www.advancedfootballanalytics.com/index.php/home/stats/stats-explained/expected-points-and-epa-explained)\n",
    "      \n",
    "A few things of note:\n",
    "      - Each play has an EPA value that is calculated by finding the difference between the Expected Points before the play happens and the Expected Points after the play happens.\n",
    "      - My goal is to create an Expected Points model for college football to measure the effectiveness/efficiency of an individual play. After completing the model, each play will have an EPA value. We can then look at the average EPA per play for each team and see which teams have more efficient offenses/defenses. \n",
    "        - The target is the 'next points scored'. There are possible values of: +/-7, +/-3, and +/-2. I will have to add this variable to the data set. \n",
    "   "
   ]
  },
  {
   "cell_type": "code",
   "execution_count": 1,
   "metadata": {},
   "outputs": [],
   "source": [
    "import pandas as pd\n",
    "import numpy as np\n",
    "import os\n",
    "import seaborn as sns"
   ]
  },
  {
   "cell_type": "markdown",
   "metadata": {},
   "source": [
    "DATA CLEANING AND EDA\n",
    "\n",
    "I got the data from an R package called cfbscrapR (see https://saiemgilani.github.io/cfbscrapR/). I used the R package to get the data of every play that happened in the 2018 and 2019 college football seasons. This package does have an EPA model of their own, however I will not use that model and create my own version. The data is relatively clean, but needed multiple variables/features added to the data. I created a list below of all the features that I created to complete the model. I also ran into a few issues with some of the variables that I had to clean up or filter some of the plays out. I took the liberty of not including kickoffs or punts into my model becuase I could not come up with a good way of incorperating the change of possession into the model. "
   ]
  },
  {
   "cell_type": "code",
   "execution_count": 2,
   "metadata": {},
   "outputs": [
    {
     "name": "stderr",
     "output_type": "stream",
     "text": [
      "C:\\Users\\nathd\\anaconda3\\lib\\site-packages\\IPython\\core\\interactiveshell.py:3071: DtypeWarning: Columns (146,147,150,151) have mixed types.Specify dtype option on import or set low_memory=False.\n",
      "  has_raised = await self.run_ast_nodes(code_ast.body, cell_name,\n"
     ]
    }
   ],
   "source": [
    "#import data\n",
    "pbp18 = pd.read_csv('pbp2018.csv', encoding='ISO-8859-1')\n",
    "pbp19 = pd.read_csv('pbp2019.csv', encoding='ISO-8859-1')\n",
    "drives18 = pd.read_csv('drives_18.csv', encoding='ISO-8859-1')\n",
    "drives19 = pd.read_csv('drives_19.csv', encoding='ISO-8859-1')"
   ]
  },
  {
   "cell_type": "code",
   "execution_count": 4,
   "metadata": {},
   "outputs": [],
   "source": [
    "#get relevant variables from data frames -- note: the original data has the statistic I am trying to compute but I will not include it in the data I will work with\n",
    "pbp19 = pbp19[['week', 'game_id', 'drive_id', 'offense_play', 'defense_play', 'half', 'period', 'clock.minutes', 'clock.seconds', 'play_type', 'play_text', 'down', 'distance', 'yards_to_goal', 'yards_gained', 'offense_score', 'defense_score', 'down_end', 'distance_end', 'drive_result', 'offense_conference', 'home', 'away', 'yards_to_goal_end']]\n",
    "pbp18 = pbp18[['week', 'game_id', 'drive_id', 'offense_play', 'defense_play', 'half', 'period', 'clock.minutes', 'clock.seconds', 'play_type', 'play_text', 'down', 'distance', 'yards_to_goal', 'yards_gained', 'offense_score', 'defense_score', 'down_end', 'distance_end', 'drive_result', 'offense_conference', 'home', 'away', 'yards_to_goal_end']]\n",
    "pbp20 = pbp20[['week.x', 'game_id', 'drive_id', 'offense_play', 'defense_play', 'half', 'period', 'clock.minutes', 'clock.seconds', 'play_type', 'play_text', 'down', 'distance', 'yards_to_goal', 'yards_gained', 'offense_score', 'defense_score', 'down_end', 'distance_end', 'drive_result', 'offense_conference', 'home', 'away', 'yards_to_goal_end']]"
   ]
  },
  {
   "cell_type": "code",
   "execution_count": 5,
   "metadata": {},
   "outputs": [],
   "source": [
    "#combine play by play data from 2018 and 2019 seasons, add needed columns from drive data sets -- should I add 2020??\n",
    "pbp = pbp18.append(pbp19)\n",
    "drives = drives18.append(drives19)[['drive_id', 'offense', 'defense', 'scoring']]\n",
    "\n",
    "pbp = pbp.merge(drives, how = 'inner', on = 'drive_id')"
   ]
  },
  {
   "cell_type": "code",
   "execution_count": 6,
   "metadata": {},
   "outputs": [],
   "source": [
    "# # # BASIC DATA CLEANING -- filter out bad plays / adding a few features\n",
    "pbp = pbp.reset_index(drop = True)\n",
    "\n",
    "#filter out weird plays that don't make sense\n",
    "pbp.query('down > 0 & down < 5', inplace = True)\n",
    "pbp.query('play_type != \"placeholder\"', inplace = True)\n",
    "pbp.query('play_type != \"Coin Toss\"', inplace = True)\n",
    "pbp.query('play_type != \"Timeout\"', inplace = True)"
   ]
  },
  {
   "cell_type": "code",
   "execution_count": 7,
   "metadata": {},
   "outputs": [],
   "source": [
    "#add dummy variables for possible filters\n",
    "pbp['pass'] = np.where(pbp.play_text.str.lower().str.contains(\"pass|sack\"), 1, 0)\n",
    "pbp['rush'] = np.where(pbp.play_text.str.lower().str.contains(\"rush|run\"), 1, 0)\n",
    "pbp['penalty'] = np.where(pbp.play_text.str.lower().str.contains(\"penalty\"), 1, 0)\n",
    "pbp['punt'] = np.where(pbp.play_text.str.lower().str.contains(\"punt\"), 1, 0)\n",
    "pbp['kickoff'] = np.where(pbp.play_text.str.lower().str.contains(\"kickoff|return\"), 1, 0)"
   ]
  },
  {
   "cell_type": "code",
   "execution_count": 8,
   "metadata": {},
   "outputs": [],
   "source": [
    "#Add feature -- success rate -- to use when predicting points per possession\n",
    "#Used Percentages from SportsSource Analytics\n",
    "#Football Outsiders uses: 1st - .5, 2nd - .7, 3rd/4th - conversion\n",
    "pbp['success'] = np.where((pbp.down == 1) & (pbp.yards_gained >= (.4*pbp.distance)), 1, \n",
    "                   np.where((pbp.down == 2) & (pbp.yards_gained >= (.5*pbp.distance)), 1,\n",
    "                   np.where(((pbp.down == 3) | (pbp.down == 4)) & (pbp.yards_gained >=pbp.distance), 1, 0)))"
   ]
  },
  {
   "cell_type": "code",
   "execution_count": 9,
   "metadata": {},
   "outputs": [],
   "source": [
    "#filter out kickoffs?? penalties? punts?  -- just filter kickoffs and punts for now. \n",
    "#Not exactly sure how to deal with the changes in possession or drive ending plays quite yet\n",
    "pbp.query('`kickoff` == 0 & `punt` == 0 & `play_text` != \"Kickoff\"', inplace = True)"
   ]
  },
  {
   "cell_type": "code",
   "execution_count": 10,
   "metadata": {},
   "outputs": [],
   "source": [
    "#reset index after querying\n",
    "pbp = pbp.reset_index(drop = True)"
   ]
  },
  {
   "cell_type": "code",
   "execution_count": 11,
   "metadata": {},
   "outputs": [],
   "source": [
    "#Add feature -- points scored. Add the points scored on a specific play\n",
    "#look into using 'drive_result' instead of 'play_type'\n",
    "offensive_td = ['Passing Touchdown', 'Rushing Touchdown', 'Fumble Recovery (Own) Touchdown']\n",
    "fg = ['Field Goal Good']\n",
    "defensive_td = ['Interception Return Touchdown', 'Fumble Return Touchdown', 'Missed Field Goal Return Touchdown', 'Blocked Field Goal Touchdown']\n",
    "safety = ['Safety', 'Penalty (Safety)']\n",
    "#inintialize list for scores\n",
    "score = list(range(0, len(pbp)))\n",
    "#find if there was a score on a specific play\n",
    "for i in range(0, len(pbp)):\n",
    "    score[i] = np.where(pbp.play_type[i] in offensive_td, 7, \n",
    "             np.where(pbp.play_type[i] in fg, 3,\n",
    "                np.where(pbp.play_type[i] in defensive_td, -7,\n",
    "                    np.where(pbp.play_type[i] in safety, -2, 0))))\n",
    "    \n",
    "#add score to pbp\n",
    "pbp['score'] = score"
   ]
  },
  {
   "cell_type": "code",
   "execution_count": 12,
   "metadata": {},
   "outputs": [],
   "source": [
    "#Add feature -- drive points: add the number of points scored for the whole drive to pbp, not just the singular play\n",
    "drive_points = pbp.groupby('drive_id').agg(drive_pts = ('score', 'max')).reset_index()\n",
    "pbp = pbp.merge(drive_points, how = 'inner', on = 'drive_id')"
   ]
  },
  {
   "cell_type": "code",
   "execution_count": 13,
   "metadata": {},
   "outputs": [
    {
     "data": {
      "text/plain": [
       "246789"
      ]
     },
     "execution_count": 13,
     "metadata": {},
     "output_type": "execute_result"
    }
   ],
   "source": [
    "#Add feature -- dummy variable for home/away team on the play/drive -- 1 = home, 2 = away\n",
    "home_away = np.where(pbp.offense == pbp.home, 1, 2)\n",
    "pbp['home_away'] = home_away\n",
    "\n",
    "#Add feature -- dummy variable for home/away score. Indicates if the home/away team scored\n",
    "scoring_team = np.where(pbp.drive_pts != 0, pbp.home_away, 0)\n",
    "pbp['scoring_team'] = scoring_team"
   ]
  },
  {
   "cell_type": "code",
   "execution_count": 14,
   "metadata": {},
   "outputs": [
    {
     "name": "stdout",
     "output_type": "stream",
     "text": [
      "100\n",
      "200\n",
      "300\n",
      "400\n",
      "500\n",
      "600\n",
      "700\n",
      "800\n",
      "900\n",
      "1000\n",
      "1100\n",
      "1200\n",
      "1300\n",
      "1400\n",
      "1500\n",
      "1600\n"
     ]
    }
   ],
   "source": [
    "#Add features -- the next score (the next points scored) and the next score team (the team that scored the next points)\n",
    "\n",
    "#initialize empty lists\n",
    "total_score = list(range(0, len(pbp.game_id.unique())))\n",
    "total_score_team = list(range(0, len(pbp.game_id.unique())))\n",
    "c = 0\n",
    "#loop through each game (don't want next points leaking from the next game)\n",
    "for g_id in (pbp.sort_values(['game_id', 'drive_id']).game_id.unique()):\n",
    "    #get array of game drive scores (g) and array of game drive scores team (t)\n",
    "    g = pbp.query('game_id == @g_id').groupby('drive_id').agg(drive_pts = ('score', 'max')).reset_index().drive_pts\n",
    "    t = pbp.query('game_id == @g_id').groupby('drive_id').agg(scoring_team = ('scoring_team', 'max')).reset_index().scoring_team\n",
    "    #initialize empty series for each game\n",
    "    next_score = pd.Series([0]).repeat(len(g)).reset_index(drop = True)\n",
    "    next_score_team = pd.Series([0]).repeat(len(t)).reset_index(drop = True)\n",
    "    #count the number of drives in between scores\n",
    "    counter = 0\n",
    "    \n",
    "    #loop through drives in the game\n",
    "    for i in range(0, len(g)):\n",
    "        #if the drive is not a score, increment counter\n",
    "        if g[i] == 0:\n",
    "            counter = counter + 1\n",
    "        #if the drive is a score, get the points scored and the team that scored\n",
    "        else:\n",
    "            points = g[i]\n",
    "            team = t[i]\n",
    "            #if the previous drive was also a score (no need to assign values to past drives)\n",
    "            if counter == 0:\n",
    "                next_score[i] = points\n",
    "                next_score_team[i] = team\n",
    "            #assign next points for previous scoreless drives\n",
    "            else:\n",
    "                #loop through previous scoreless drives\n",
    "                for j in range(0, counter + 1):\n",
    "                    next_score[(i - j)] = points\n",
    "                    next_score_team[(i - j)] = team\n",
    "                counter = 0\n",
    "    #add game to big lists           \n",
    "    total_score[c] = next_score\n",
    "    total_score_team[c] = next_score_team\n",
    "    c = c + 1\n",
    "    #print i to check on how long it takes\n",
    "    if c in range(0, len(pbp.game_id.unique()), 100):\n",
    "        print(c)\n",
    "        \n",
    "#add next points scored to each drive\n",
    "next_score_points = pd.Series(total_score).apply(pd.Series).stack().reset_index(drop = True)\n",
    "drive_p = pbp.sort_values(['game_id', 'drive_id']).groupby(['game_id', 'drive_id']).agg(drive_pts = ('drive_pts', 'max')).reset_index().sort_values(['game_id', 'drive_id'])\n",
    "drive_p['next_pts'] = next_score_points\n",
    "\n",
    "#add next points scored team to each drive\n",
    "next_score_team = pd.Series(total_score_team).apply(pd.Series).stack().reset_index(drop = True)\n",
    "drive_p['next_pts_team'] = next_score_team"
   ]
  },
  {
   "cell_type": "code",
   "execution_count": 15,
   "metadata": {},
   "outputs": [],
   "source": [
    "#create new data frame with next points and next points team added\n",
    "pbp_next = pbp.merge(drive_p[['drive_id', 'next_pts', 'next_pts_team']], how = \"inner\", on = 'drive_id')"
   ]
  },
  {
   "cell_type": "code",
   "execution_count": 16,
   "metadata": {},
   "outputs": [],
   "source": [
    "#add feature -- make the next points negative if the next points scored was the other team\n",
    "true_next_pts = np.where(pbp_next.home_away == pbp_next.next_pts_team, pbp_next.next_pts, (-1)*pbp_next.next_pts)\n",
    "pbp_next['true_next_pts'] = true_next_pts"
   ]
  },
  {
   "cell_type": "code",
   "execution_count": 17,
   "metadata": {},
   "outputs": [],
   "source": [
    "#Add feature -- seconds remaining\n",
    "seconds_remaining = np.where(pbp_next.half == 1, (pbp_next['clock.minutes'] * 60) + pbp_next['clock.seconds'] + (30 * 60), (pbp_next['clock.minutes'] * 60) + pbp_next['clock.seconds'])\n",
    "pbp_next['seconds_remaining'] = seconds_remaining"
   ]
  },
  {
   "cell_type": "code",
   "execution_count": 18,
   "metadata": {},
   "outputs": [
    {
     "name": "stderr",
     "output_type": "stream",
     "text": [
      "C:\\Users\\nathd\\anaconda3\\lib\\site-packages\\pandas\\core\\series.py:679: RuntimeWarning: divide by zero encountered in log\n",
      "  result = getattr(ufunc, method)(*inputs, **kwargs)\n"
     ]
    }
   ],
   "source": [
    "#Add feature -- log yards to go\n",
    "pbp_next['log_yards_to_goal'] = np.where(pbp_next.yards_to_goal <= 0, 0, np.log(pbp_next.yards_to_goal))\n",
    "pbp_next['log_yards_to_goal_end'] = np.where(pbp_next.yards_to_goal_end <= 0, 0, np.log(pbp_next.yards_to_goal))"
   ]
  },
  {
   "cell_type": "code",
   "execution_count": 19,
   "metadata": {},
   "outputs": [],
   "source": [
    "#Add feature -- TD, Defensive TD, Safety, and FG dummy variables\n",
    "pbp_next['td'] = np.where(pbp_next.score == 7, 1, 0)\n",
    "pbp_next['d_td'] = np.where(pbp_next.score == -7, 1, 0)\n",
    "pbp_next['saf'] = np.where(pbp_next.score == -2, 1, 0)\n",
    "pbp_next['fg'] = np.where(pbp_next.score == 3, 1, 0)"
   ]
  },
  {
   "cell_type": "code",
   "execution_count": 20,
   "metadata": {},
   "outputs": [],
   "source": [
    "#Add features -- before td, before d td, before saf, before fg Dummy Variables (all will be zeros)\n",
    "zeros = pd.Series(0).repeat(len(pbp_next)).reset_index(drop = True)\n",
    "pbp_next['td_before'] = zeros\n",
    "pbp_next['d_td_before'] = zeros\n",
    "pbp_next['saf_before'] = zeros\n",
    "pbp_next['fg_before'] = zeros"
   ]
  },
  {
   "cell_type": "code",
   "execution_count": 21,
   "metadata": {},
   "outputs": [],
   "source": [
    "#clean up yards_to_goal_end for scoring plays\n",
    "pbp_next['yards_to_goal_end_1'] = pbp_next.yards_to_goal - pbp_next.yards_gained\n",
    "ytge = np.where(pbp_next.yards_to_goal_end_1 == 0, 0, pbp_next.yards_to_goal_end)\n",
    "pbp_next['yards_to_goal_end'] = ytge\n",
    "\n",
    "#fix yards to goal on field goal attempts\n",
    "yards_gained = np.where(pbp_next.play_type == \"Field Goal Good\", pbp_next.yards_to_goal,\n",
    "         np.where(pbp_next.play_type == \"Field Goal Missed\", 0, pbp_next.yards_gained))\n",
    "pbp_next['yards_gained'] = yards_gained\n",
    "\n",
    "#reomve troublesome rows\n",
    "pbp_next.query('yards_to_goal >= yards_gained', inplace = True)\n",
    "pbp_next.query('distance_end >= 0', inplace = True)\n",
    "pbp_next = pbp_next[~pbp_next.isin([np.nan, np.inf, -np.inf]).any(1)]\n"
   ]
  },
  {
   "cell_type": "markdown",
   "metadata": {},
   "source": [
    "Features I have added to get to where I need:\n",
    "    - success\n",
    "    - score\n",
    "    - pass\n",
    "    - rush\n",
    "    - penalty\n",
    "    - punt\n",
    "    - kickoff\n",
    "    - drive_pts\n",
    "    - home_away\n",
    "    - scoring_team\n",
    "    - next_pts\n",
    "    - next_pts_team\n",
    "    - true_next_pts\n",
    "    - seconds_remaining\n",
    "    - log_yards_to_goal\n",
    "    - td and td_before\n",
    "    - d_td and d_td_before\n",
    "    - saf and saf_before\n",
    "    - fg and fg_before\n",
    "    - yards_to_goal_end\n",
    "    - log_yards_to_goal_end"
   ]
  },
  {
   "cell_type": "code",
   "execution_count": 22,
   "metadata": {},
   "outputs": [
    {
     "data": {
      "text/html": [
       "<div>\n",
       "<style scoped>\n",
       "    .dataframe tbody tr th:only-of-type {\n",
       "        vertical-align: middle;\n",
       "    }\n",
       "\n",
       "    .dataframe tbody tr th {\n",
       "        vertical-align: top;\n",
       "    }\n",
       "\n",
       "    .dataframe thead th {\n",
       "        text-align: right;\n",
       "    }\n",
       "</style>\n",
       "<table border=\"1\" class=\"dataframe\">\n",
       "  <thead>\n",
       "    <tr style=\"text-align: right;\">\n",
       "      <th></th>\n",
       "      <th>log_yards_to_goal</th>\n",
       "      <th>down</th>\n",
       "      <th>distance</th>\n",
       "      <th>yards_to_goal</th>\n",
       "      <th>true_next_pts</th>\n",
       "      <th>td</th>\n",
       "      <th>d_td</th>\n",
       "      <th>saf</th>\n",
       "      <th>fg</th>\n",
       "    </tr>\n",
       "  </thead>\n",
       "  <tbody>\n",
       "    <tr>\n",
       "      <th>0</th>\n",
       "      <td>4.174387</td>\n",
       "      <td>1</td>\n",
       "      <td>10</td>\n",
       "      <td>65</td>\n",
       "      <td>7.0</td>\n",
       "      <td>0</td>\n",
       "      <td>0</td>\n",
       "      <td>0</td>\n",
       "      <td>0</td>\n",
       "    </tr>\n",
       "    <tr>\n",
       "      <th>1</th>\n",
       "      <td>4.127134</td>\n",
       "      <td>2</td>\n",
       "      <td>7</td>\n",
       "      <td>62</td>\n",
       "      <td>7.0</td>\n",
       "      <td>0</td>\n",
       "      <td>0</td>\n",
       "      <td>0</td>\n",
       "      <td>0</td>\n",
       "    </tr>\n",
       "    <tr>\n",
       "      <th>2</th>\n",
       "      <td>4.219508</td>\n",
       "      <td>3</td>\n",
       "      <td>13</td>\n",
       "      <td>68</td>\n",
       "      <td>7.0</td>\n",
       "      <td>0</td>\n",
       "      <td>0</td>\n",
       "      <td>0</td>\n",
       "      <td>0</td>\n",
       "    </tr>\n",
       "    <tr>\n",
       "      <th>3</th>\n",
       "      <td>3.988984</td>\n",
       "      <td>1</td>\n",
       "      <td>10</td>\n",
       "      <td>54</td>\n",
       "      <td>7.0</td>\n",
       "      <td>0</td>\n",
       "      <td>0</td>\n",
       "      <td>0</td>\n",
       "      <td>0</td>\n",
       "    </tr>\n",
       "    <tr>\n",
       "      <th>4</th>\n",
       "      <td>3.850148</td>\n",
       "      <td>2</td>\n",
       "      <td>3</td>\n",
       "      <td>47</td>\n",
       "      <td>7.0</td>\n",
       "      <td>0</td>\n",
       "      <td>0</td>\n",
       "      <td>0</td>\n",
       "      <td>0</td>\n",
       "    </tr>\n",
       "    <tr>\n",
       "      <th>5</th>\n",
       "      <td>2.944439</td>\n",
       "      <td>1</td>\n",
       "      <td>10</td>\n",
       "      <td>19</td>\n",
       "      <td>7.0</td>\n",
       "      <td>0</td>\n",
       "      <td>0</td>\n",
       "      <td>0</td>\n",
       "      <td>0</td>\n",
       "    </tr>\n",
       "    <tr>\n",
       "      <th>6</th>\n",
       "      <td>2.397895</td>\n",
       "      <td>2</td>\n",
       "      <td>2</td>\n",
       "      <td>11</td>\n",
       "      <td>7.0</td>\n",
       "      <td>1</td>\n",
       "      <td>0</td>\n",
       "      <td>0</td>\n",
       "      <td>0</td>\n",
       "    </tr>\n",
       "    <tr>\n",
       "      <th>7</th>\n",
       "      <td>4.317488</td>\n",
       "      <td>1</td>\n",
       "      <td>10</td>\n",
       "      <td>75</td>\n",
       "      <td>-7.0</td>\n",
       "      <td>0</td>\n",
       "      <td>0</td>\n",
       "      <td>0</td>\n",
       "      <td>0</td>\n",
       "    </tr>\n",
       "    <tr>\n",
       "      <th>8</th>\n",
       "      <td>4.127134</td>\n",
       "      <td>1</td>\n",
       "      <td>10</td>\n",
       "      <td>62</td>\n",
       "      <td>-7.0</td>\n",
       "      <td>0</td>\n",
       "      <td>0</td>\n",
       "      <td>0</td>\n",
       "      <td>0</td>\n",
       "    </tr>\n",
       "    <tr>\n",
       "      <th>9</th>\n",
       "      <td>4.043051</td>\n",
       "      <td>2</td>\n",
       "      <td>5</td>\n",
       "      <td>57</td>\n",
       "      <td>-7.0</td>\n",
       "      <td>0</td>\n",
       "      <td>0</td>\n",
       "      <td>0</td>\n",
       "      <td>0</td>\n",
       "    </tr>\n",
       "    <tr>\n",
       "      <th>10</th>\n",
       "      <td>4.007333</td>\n",
       "      <td>3</td>\n",
       "      <td>3</td>\n",
       "      <td>55</td>\n",
       "      <td>-7.0</td>\n",
       "      <td>0</td>\n",
       "      <td>0</td>\n",
       "      <td>0</td>\n",
       "      <td>0</td>\n",
       "    </tr>\n",
       "    <tr>\n",
       "      <th>11</th>\n",
       "      <td>4.382027</td>\n",
       "      <td>1</td>\n",
       "      <td>10</td>\n",
       "      <td>80</td>\n",
       "      <td>7.0</td>\n",
       "      <td>0</td>\n",
       "      <td>0</td>\n",
       "      <td>0</td>\n",
       "      <td>0</td>\n",
       "    </tr>\n",
       "    <tr>\n",
       "      <th>12</th>\n",
       "      <td>4.304065</td>\n",
       "      <td>2</td>\n",
       "      <td>4</td>\n",
       "      <td>74</td>\n",
       "      <td>7.0</td>\n",
       "      <td>0</td>\n",
       "      <td>0</td>\n",
       "      <td>0</td>\n",
       "      <td>0</td>\n",
       "    </tr>\n",
       "    <tr>\n",
       "      <th>13</th>\n",
       "      <td>4.276666</td>\n",
       "      <td>3</td>\n",
       "      <td>2</td>\n",
       "      <td>72</td>\n",
       "      <td>7.0</td>\n",
       "      <td>0</td>\n",
       "      <td>0</td>\n",
       "      <td>0</td>\n",
       "      <td>0</td>\n",
       "    </tr>\n",
       "    <tr>\n",
       "      <th>14</th>\n",
       "      <td>4.174387</td>\n",
       "      <td>1</td>\n",
       "      <td>10</td>\n",
       "      <td>65</td>\n",
       "      <td>7.0</td>\n",
       "      <td>0</td>\n",
       "      <td>0</td>\n",
       "      <td>0</td>\n",
       "      <td>0</td>\n",
       "    </tr>\n",
       "  </tbody>\n",
       "</table>\n",
       "</div>"
      ],
      "text/plain": [
       "    log_yards_to_goal  down  distance  yards_to_goal  true_next_pts  td  d_td  \\\n",
       "0            4.174387     1        10             65            7.0   0     0   \n",
       "1            4.127134     2         7             62            7.0   0     0   \n",
       "2            4.219508     3        13             68            7.0   0     0   \n",
       "3            3.988984     1        10             54            7.0   0     0   \n",
       "4            3.850148     2         3             47            7.0   0     0   \n",
       "5            2.944439     1        10             19            7.0   0     0   \n",
       "6            2.397895     2         2             11            7.0   1     0   \n",
       "7            4.317488     1        10             75           -7.0   0     0   \n",
       "8            4.127134     1        10             62           -7.0   0     0   \n",
       "9            4.043051     2         5             57           -7.0   0     0   \n",
       "10           4.007333     3         3             55           -7.0   0     0   \n",
       "11           4.382027     1        10             80            7.0   0     0   \n",
       "12           4.304065     2         4             74            7.0   0     0   \n",
       "13           4.276666     3         2             72            7.0   0     0   \n",
       "14           4.174387     1        10             65            7.0   0     0   \n",
       "\n",
       "    saf  fg  \n",
       "0     0   0  \n",
       "1     0   0  \n",
       "2     0   0  \n",
       "3     0   0  \n",
       "4     0   0  \n",
       "5     0   0  \n",
       "6     0   0  \n",
       "7     0   0  \n",
       "8     0   0  \n",
       "9     0   0  \n",
       "10    0   0  \n",
       "11    0   0  \n",
       "12    0   0  \n",
       "13    0   0  \n",
       "14    0   0  "
      ]
     },
     "execution_count": 22,
     "metadata": {},
     "output_type": "execute_result"
    }
   ],
   "source": [
    "#I believe I am done adding features and am ready to start throwing this into models to see which works the best\n",
    "\n",
    "#model format\n",
    "pbp_next[['log_yards_to_goal', 'down', 'distance', 'yards_to_goal', 'true_next_pts', 'td', 'd_td', 'saf', 'fg']].head(5)"
   ]
  },
  {
   "cell_type": "markdown",
   "metadata": {},
   "source": [
    "MODELING \n",
    "Used a Gradient Boosting Model. I tried the following: ordinary lm, ridge, lasso, knn, random forest, and decistion trees. Gradient Boosting had the best outcomes. I also looked to optimize the max_depth and found an optimal value of 6. "
   ]
  },
  {
   "cell_type": "code",
   "execution_count": 23,
   "metadata": {},
   "outputs": [],
   "source": [
    "#import sklearn modeling stuff\n",
    "import matplotlib.pyplot as plt\n",
    "from sklearn.model_selection import train_test_split\n",
    "from sklearn.preprocessing import PolynomialFeatures, StandardScaler\n",
    "from sklearn.metrics import mean_squared_error, r2_score\n",
    "from sklearn.pipeline import make_pipeline, Pipeline, FeatureUnion\n",
    "from sklearn.model_selection import KFold, GridSearchCV\n",
    "from sklearn.ensemble import GradientBoostingRegressor"
   ]
  },
  {
   "cell_type": "code",
   "execution_count": 36,
   "metadata": {},
   "outputs": [
    {
     "name": "stderr",
     "output_type": "stream",
     "text": [
      "C:\\Users\\nathd\\anaconda3\\lib\\site-packages\\sklearn\\utils\\validation.py:73: DataConversionWarning: A column-vector y was passed when a 1d array was expected. Please change the shape of y to (n_samples, ), for example using ravel().\n",
      "  return f(**kwargs)\n"
     ]
    }
   ],
   "source": [
    "#split into testing and training sets\n",
    "y = pbp_next[['true_next_pts']]\n",
    "X = pbp_next[['log_yards_to_goal', 'down', 'distance', 'yards_to_goal', 'td', 'd_td', 'saf', 'fg']]\n",
    "#Train/Split data\n",
    "X_train, X_test, y_train, y_test = train_test_split(X, y, test_size = .3, random_state=801)\n",
    "\n",
    "#fit pipeline model -- I tried 6 different types of models and this was the best\n",
    "gb = Pipeline([('poly', PolynomialFeatures(degree=2)), \n",
    "                 ('ss', StandardScaler()),\n",
    "                 ('gb', GradientBoostingRegressor(max_depth = 6))])\n",
    "gb.fit(X_train, y_train)\n",
    "yhat_gb = gb.predict(X_train)\n",
    "yhat_gb_test = gb.predict(X_test)"
   ]
  },
  {
   "cell_type": "code",
   "execution_count": 37,
   "metadata": {},
   "outputs": [],
   "source": [
    "#Try and find best parameters -- commented out becuase it takes a long time to run\n",
    "\n",
    "#parameters_gb = {'max_depth':list(range(2,15))}\n",
    "#gb = GradientBoostingRegressor()\n",
    "#par_gb = GridSearchCV(gb, parameters_gb)\n",
    "#par_gb.fit(X_train, y_train)\n",
    "\n",
    "#par_gb.best_params_\n",
    "#max depth = 6"
   ]
  },
  {
   "cell_type": "code",
   "execution_count": 38,
   "metadata": {},
   "outputs": [
    {
     "name": "stdout",
     "output_type": "stream",
     "text": [
      "25.841422043802602 26.14693604474531\n"
     ]
    }
   ],
   "source": [
    "#test to see mse for training/testing sets\n",
    "mse_gb_train = mean_squared_error(y_train, yhat_gb)\n",
    "mse_gb_test = mean_squared_error(y_test, yhat_gb_test)\n",
    "\n",
    "print(mse_gb_train, mse_gb_test)"
   ]
  },
  {
   "cell_type": "markdown",
   "metadata": {},
   "source": [
    "VIEW PREDICTIONS AND EVALUATE HOW THE MODEL DID\n"
   ]
  },
  {
   "cell_type": "code",
   "execution_count": 39,
   "metadata": {},
   "outputs": [],
   "source": [
    "#add Expected Points Before and after the play\n",
    "X_before = pbp_next[['log_yards_to_goal', 'down', 'distance', 'yards_to_goal', 'td_before', 'd_td_before', 'saf_before', 'fg_before']]\n",
    "X_after = pbp_next[['log_yards_to_goal_end', 'down_end', 'distance_end', 'yards_to_goal_end', 'td', 'd_td', 'saf', 'fg']]\n",
    "\n",
    "pbp_next['EP_before'] = gb.predict(X_before)\n",
    "pbp_next['EP_after'] = gb.predict(X_after)"
   ]
  },
  {
   "cell_type": "code",
   "execution_count": 100,
   "metadata": {},
   "outputs": [
    {
     "data": {
      "text/plain": [
       "Text(0.5, 1.0, 'Expected Points by Down')"
      ]
     },
     "execution_count": 100,
     "metadata": {},
     "output_type": "execute_result"
    },
    {
     "data": {
      "image/png": "[encoded data removed]",
      "text/plain": [
       "<Figure size 432x288 with 1 Axes>"
      ]
     },
     "metadata": {
      "needs_background": "light"
     },
     "output_type": "display_data"
    }
   ],
   "source": [
    "#view expected points values per field position and down\n",
    "ep_yards_to_goal = pbp_next.query('yards_to_goal < 96').groupby(['down', 'yards_to_goal']).agg(ep = ('EP_before', 'mean')).reset_index()\n",
    "\n",
    "sns.color_palette(\"hls\", 8)\n",
    "sns.lineplot(x = ep_yards_to_goal.yards_to_goal, y = ep_yards_to_goal.ep, hue = ep_yards_to_goal.down, palette = sns.color_palette(\"dark\", 4))\n",
    "plt.xlabel('Yards to Goal')\n",
    "plt.ylabel('Average Expected Points')\n",
    "plt.title('Expected Points by Down')"
   ]
  },
  {
   "cell_type": "markdown",
   "metadata": {},
   "source": [
    "The graphic above shows the expected points before a play occurs grouped by Yards to Goal for each down from each play from my data. This confirms that 1st downs have the highest expected points values. This is how it should be. The fourth downs have a lot of variability mostly due to not having a lot of fourth down data (I filtered out punts and this takes out a wide majority of fourth downs)"
   ]
  },
  {
   "cell_type": "code",
   "execution_count": 41,
   "metadata": {},
   "outputs": [],
   "source": [
    "#add the differnce in expected points per play = EPA on that play\n",
    "pbp_next['epa'] = pbp_next.EP_after - pbp_next.EP_before"
   ]
  },
  {
   "cell_type": "code",
   "execution_count": 77,
   "metadata": {},
   "outputs": [],
   "source": [
    "#add adjusted epa for scoring plays -- the expected points after a score are the value of the score\n",
    "pbp_next['score_adj_ep_after'] = np.where(pbp_next.score != 0, pbp_next.score, pbp_next.EP_after)\n",
    "pbp_next['score_adj_epa'] = pbp_next.score_adj_ep_after - pbp_next.EP_before\n",
    "pbp_next.score_adj_epa = pbp_next.score_adj_epa.astype('float64')"
   ]
  },
  {
   "cell_type": "code",
   "execution_count": 45,
   "metadata": {},
   "outputs": [
    {
     "data": {
      "text/plain": [
       "Text(0.5, 1.0, 'FBS Team EPA/play')"
      ]
     },
     "execution_count": 45,
     "metadata": {},
     "output_type": "execute_result"
    },
    {
     "data": {
      "image/png": "[encoded data removed]",
      "text/plain": [
       "<Figure size 432x288 with 1 Axes>"
      ]
     },
     "metadata": {
      "needs_background": "light"
     },
     "output_type": "display_data"
    }
   ],
   "source": [
    "#scatter plot of offensive vs defensive epa/play for all FBS teams\n",
    "sns.scatterplot(epa_play.off_epa, epa_play.def_epa)\n",
    "plt.xlabel(\"Offensive EPA/play\")\n",
    "plt.ylabel(\"Defensive EPA/play\")\n",
    "plt.title(\"FBS Team EPA/play\")"
   ]
  },
  {
   "cell_type": "code",
   "execution_count": 81,
   "metadata": {},
   "outputs": [
    {
     "data": {
      "text/plain": [
       "Text(0.5, 1.0, 'Is Rushing or Passing More Efficient?')"
      ]
     },
     "execution_count": 81,
     "metadata": {},
     "output_type": "execute_result"
    },
    {
     "data": {
      "image/png": "[encoded data removed]",
      "text/plain": [
       "<Figure size 432x288 with 1 Axes>"
      ]
     },
     "metadata": {
      "needs_background": "light"
     },
     "output_type": "display_data"
    }
   ],
   "source": [
    "#run vs pass epa -- which is more efficient?\n",
    "\n",
    "rush_epa = pbp_next.query('rush == 1').groupby('yards_to_goal').agg(rushing = ('epa', 'mean')).reset_index()\n",
    "pass_epa = pbp_next.query('`pass` == 1').groupby('yards_to_goal').agg(passing = ('epa', 'mean')).reset_index()\n",
    "\n",
    "pass_rush_epa = rush_epa.merge(pass_epa, how = 'inner', on = 'yards_to_goal')\n",
    "\n",
    "pass_rush_epa = pd.melt(pass_rush_epa.query('yards_to_goal < 96')[['yards_to_goal', 'rushing', 'passing']], id_vars = ['yards_to_goal'], value_vars = ['rushing', 'passing'], var_name = 'play type', value_name = 'epa')\n",
    "\n",
    "sns.lineplot(x = pass_rush_epa.yards_to_goal, y = pass_rush_epa.epa, hue = pass_rush_epa['play type'], palette = [\"C0\", \"C1\"])\n",
    "plt.xlabel(\"Yards To Goal\")\n",
    "plt.ylabel(\"Average EPA/play\")\n",
    "plt.title(\"Is Rushing or Passing More Efficient?\")"
   ]
  },
  {
   "cell_type": "markdown",
   "metadata": {},
   "source": [
    "This confirms an expectation of mine that passing plays are more efficient than running plays. As you can see in the graph, the passing plays are above the running plays. \n",
    "However, this graphic seemed a little off to me. I would initally believe that the EPA/play would go up as you got closer to the endzone, and this appears to go down. After doing a little digging, I found that on a scoring play, the model was not predicting the scored points properly. The expected points after a scoring play should be the value of a score. If a team scores a Touchdown, the expected points after the play should be 7 (the amount of points scored on the play). I could not get the model to perform better with this, so I added a new variable to the data called score_adj_epa where it changes the scoring plays to have the scoring value from the play. View the plot below to see the difference this makes. "
   ]
  },
  {
   "cell_type": "code",
   "execution_count": 166,
   "metadata": {},
   "outputs": [
    {
     "data": {
      "text/plain": [
       "Text(0.5, 1.0, 'Is Rushing or Passing More Efficient?')"
      ]
     },
     "execution_count": 166,
     "metadata": {},
     "output_type": "execute_result"
    },
    {
     "data": {
      "image/png": "[encoded data removed]",
      "text/plain": [
       "<Figure size 432x288 with 1 Axes>"
      ]
     },
     "metadata": {
      "needs_background": "light"
     },
     "output_type": "display_data"
    }
   ],
   "source": [
    "# compare run vs pass using score adjusted epa\n",
    "\n",
    "rush_epa = pbp_next.query('rush == 1').groupby('yards_to_goal').agg(rushing = ('score_adj_epa', 'mean')).reset_index()\n",
    "pass_epa = pbp_next.query('`pass` == 1').groupby('yards_to_goal').agg(passing = ('score_adj_epa', 'mean')).reset_index()\n",
    "\n",
    "pass_rush_epa = rush_epa.merge(pass_epa, how = 'inner', on = 'yards_to_goal')\n",
    "\n",
    "pass_rush_epa = pd.melt(pass_rush_epa.query('yards_to_goal < 96')[['yards_to_goal', 'rushing', 'passing']], id_vars = ['yards_to_goal'], value_vars = ['rushing', 'passing'], var_name = 'play type', value_name = 'epa')\n",
    "\n",
    "sns.lineplot(x = pass_rush_epa.yards_to_goal, y = pass_rush_epa.epa, hue = pass_rush_epa['play type'], palette = [\"C0\", \"C1\"])\n",
    "plt.xlabel(\"Yards To Goal\")\n",
    "plt.ylabel(\"Average EPA/play\")\n",
    "plt.title(\"Is Rushing or Passing More Efficient?\")"
   ]
  },
  {
   "cell_type": "markdown",
   "metadata": {},
   "source": [
    "Evaluation\n",
    "    At the beginning, I made the claim that a 4-yard gain on 3rd & 2 is much more valuable than a 4-yard gain on 3rd & 16. Now it is time to see if the model actually makes this distinction. Below I used the model to create a function that will return the expected points for a given situation. In this case, we want to look at 3rd Down & 2 yards to go before with a 4-yard gain which would result in a 1st Down & 10 yards to go after. I will keep the field position constant and view the expected points added on the play for the scenarios."
   ]
  },
  {
   "cell_type": "code",
   "execution_count": 173,
   "metadata": {},
   "outputs": [
    {
     "name": "stdout",
     "output_type": "stream",
     "text": [
      "3rd and 2 from the 35 yardline -- 4 yard gain\n",
      "[0.96700026]\n",
      "3rd and 6 from the 35 yardline -- 4 yard gain\n",
      "[-0.04301688]\n",
      "3rd and 12 from the 35 yardline -- 4 yard gain\n",
      "[-0.95945434]\n",
      "3rd and 16 from the 35 yardline -- 4 yard gain\n",
      "[-1.01236479]\n"
     ]
    },
    {
     "data": {
      "text/plain": [
       "Text(0.5, 1.0, 'Expected Points For a Third Down of Given Distance\\nAfter a 4-Yard Gain\\nFrom the 35 Yard Line')"
      ]
     },
     "execution_count": 173,
     "metadata": {},
     "output_type": "execute_result"
    },
    {
     "data": {
      "image/png": "[encoded data removed]",
      "text/plain": [
       "<Figure size 432x288 with 1 Axes>"
      ]
     },
     "metadata": {
      "needs_background": "light"
     },
     "output_type": "display_data"
    }
   ],
   "source": [
    "#Does the model give value where value is due?\n",
    "\n",
    "#define function to get ep values for one play\n",
    "def ep(dwn, dist, ytg, t_d = 0, dt_d = 0, sfty = 0, f_g = 0):\n",
    "    play = {'log_yards_to_goal' : [np.log(ytg)], 'down' : [dwn], 'distance' : [dist], 'yards_to_go' : [ytg], 'td' : [t_d], 'd_td' : [dt_d], 'saf' : [sfty], 'fg' : [f_g]}\n",
    "    return(gb.predict(pd.DataFrame(play)))\n",
    "\n",
    "\n",
    "\n",
    "#3rd and 2 from the 35 -- 5 yard gain\n",
    "print(\"3rd and 2 from the 35 yardline -- 4 yard gain\")\n",
    "a = ep(1, 10, 30, 0, 0, 0, 0) - ep(3, 2, 35, 0, 0, 0, 0)\n",
    "print(a)\n",
    "#3rd and 6 from the 35 -- 5 yard gain\n",
    "print(\"3rd and 6 from the 35 yardline -- 4 yard gain\")\n",
    "b = ep(4, 2, 30, 0, 0, 0, 0) - ep(3, 6, 35, 0, 0, 0, 0)\n",
    "print(b)\n",
    "#3rd and 12 from the 35 -- 5 yard gain\n",
    "print(\"3rd and 12 from the 35 yardline -- 4 yard gain\")\n",
    "c = ep(4, 6, 30, 0, 0, 0, 0) - ep(3, 12, 35, 0, 0, 0, 0)\n",
    "print(c)\n",
    "#3rd and 16 from the 35 -- 5 yard gain\n",
    "print(\"3rd and 16 from the 35 yardline -- 4 yard gain\")\n",
    "d = ep(4, 12, 30, 0, 0, 0, 0) - ep(3, 16, 35, 0, 0, 0, 0)\n",
    "print(d)\n",
    "\n",
    "results = pd.DataFrame({'distance' : [2, 6, 12, 16], 'ep' : [a[0], b[0], c[0], d[0]]})\n",
    "\n",
    "sns.barplot(data = results, x = 'distance', y = 'ep', palette='hls')\n",
    "plt.xlabel(\"Distance to Go\")\n",
    "plt.ylabel(\"Expected Points Added on the Play\")\n",
    "plt.title(\"Expected Points For a Third Down of Given Distance\\nAfter a 4-Yard Gain\\nFrom the 35 Yard Line\")"
   ]
  },
  {
   "cell_type": "markdown",
   "metadata": {},
   "source": [
    "The bar graph above shows that the 4-yard gain on 3rd & 2 is much more valuable than a 4-yard gain on 3rd and 16. This confirms that not all yards are created equal and there is a better way to measure success than just total yards. Now we can look at the average epa/play of all teams in college football. below is a chart of the top offenses and then the top defenses in college football. As expected, we see the traditional top teams in these rankings. "
   ]
  },
  {
   "cell_type": "code",
   "execution_count": 192,
   "metadata": {},
   "outputs": [
    {
     "data": {
      "text/html": [
       "<div>\n",
       "<style scoped>\n",
       "    .dataframe tbody tr th:only-of-type {\n",
       "        vertical-align: middle;\n",
       "    }\n",
       "\n",
       "    .dataframe tbody tr th {\n",
       "        vertical-align: top;\n",
       "    }\n",
       "\n",
       "    .dataframe thead th {\n",
       "        text-align: right;\n",
       "    }\n",
       "</style>\n",
       "<table border=\"1\" class=\"dataframe\">\n",
       "  <thead>\n",
       "    <tr style=\"text-align: right;\">\n",
       "      <th></th>\n",
       "      <th>defense_play</th>\n",
       "      <th>def_epa</th>\n",
       "    </tr>\n",
       "  </thead>\n",
       "  <tbody>\n",
       "    <tr>\n",
       "      <th>0</th>\n",
       "      <td>Clemson</td>\n",
       "      <td>-0.211273</td>\n",
       "    </tr>\n",
       "    <tr>\n",
       "      <th>1</th>\n",
       "      <td>Miami</td>\n",
       "      <td>-0.195645</td>\n",
       "    </tr>\n",
       "    <tr>\n",
       "      <th>2</th>\n",
       "      <td>Michigan</td>\n",
       "      <td>-0.173682</td>\n",
       "    </tr>\n",
       "    <tr>\n",
       "      <th>3</th>\n",
       "      <td>Alabama</td>\n",
       "      <td>-0.142236</td>\n",
       "    </tr>\n",
       "    <tr>\n",
       "      <th>4</th>\n",
       "      <td>Penn State</td>\n",
       "      <td>-0.139622</td>\n",
       "    </tr>\n",
       "    <tr>\n",
       "      <th>5</th>\n",
       "      <td>Missouri</td>\n",
       "      <td>-0.133768</td>\n",
       "    </tr>\n",
       "    <tr>\n",
       "      <th>6</th>\n",
       "      <td>Notre Dame</td>\n",
       "      <td>-0.129986</td>\n",
       "    </tr>\n",
       "    <tr>\n",
       "      <th>7</th>\n",
       "      <td>San Diego State</td>\n",
       "      <td>-0.124435</td>\n",
       "    </tr>\n",
       "    <tr>\n",
       "      <th>8</th>\n",
       "      <td>Wisconsin</td>\n",
       "      <td>-0.124090</td>\n",
       "    </tr>\n",
       "    <tr>\n",
       "      <th>9</th>\n",
       "      <td>Michigan State</td>\n",
       "      <td>-0.123130</td>\n",
       "    </tr>\n",
       "  </tbody>\n",
       "</table>\n",
       "</div>"
      ],
      "text/plain": [
       "      defense_play   def_epa\n",
       "0          Clemson -0.211273\n",
       "1            Miami -0.195645\n",
       "2         Michigan -0.173682\n",
       "3          Alabama -0.142236\n",
       "4       Penn State -0.139622\n",
       "5         Missouri -0.133768\n",
       "6       Notre Dame -0.129986\n",
       "7  San Diego State -0.124435\n",
       "8        Wisconsin -0.124090\n",
       "9   Michigan State -0.123130"
      ]
     },
     "execution_count": 192,
     "metadata": {},
     "output_type": "execute_result"
    }
   ],
   "source": [
    "#make data frame of epa/play of FBS teams \n",
    "epa_play = pbp_next[pbp_next.offense_conference.notna()].query('`rush` == 1 | `pass` == 1').groupby('offense_play').agg(off_epa = ('score_adj_epa', 'mean')).sort_values('off_epa', ascending = False).reset_index()\n",
    "epa_play = epa_play.merge(pbp_next[pbp_next.offense_conference.notna()].query('`rush` == 1 | `pass` == 1').groupby('defense_play').agg(def_epa = ('score_adj_epa', 'mean')).sort_values('def_epa', ascending = False).reset_index(), how = 'inner', left_on = 'offense_play', right_on = 'defense_play')\n",
    "\n",
    "#top defensive teams\n",
    "epa_play.sort_values('def_epa', ascending = True)[['defense_play', 'def_epa']].reset_index(drop = True).head(10)"
   ]
  },
  {
   "cell_type": "code",
   "execution_count": 194,
   "metadata": {},
   "outputs": [
    {
     "data": {
      "text/html": [
       "<div>\n",
       "<style scoped>\n",
       "    .dataframe tbody tr th:only-of-type {\n",
       "        vertical-align: middle;\n",
       "    }\n",
       "\n",
       "    .dataframe tbody tr th {\n",
       "        vertical-align: top;\n",
       "    }\n",
       "\n",
       "    .dataframe thead th {\n",
       "        text-align: right;\n",
       "    }\n",
       "</style>\n",
       "<table border=\"1\" class=\"dataframe\">\n",
       "  <thead>\n",
       "    <tr style=\"text-align: right;\">\n",
       "      <th></th>\n",
       "      <th>offense_play</th>\n",
       "      <th>off_epa</th>\n",
       "    </tr>\n",
       "  </thead>\n",
       "  <tbody>\n",
       "    <tr>\n",
       "      <th>0</th>\n",
       "      <td>Oklahoma</td>\n",
       "      <td>0.178043</td>\n",
       "    </tr>\n",
       "    <tr>\n",
       "      <th>1</th>\n",
       "      <td>Alabama</td>\n",
       "      <td>0.171099</td>\n",
       "    </tr>\n",
       "    <tr>\n",
       "      <th>2</th>\n",
       "      <td>Hawai'i</td>\n",
       "      <td>0.139878</td>\n",
       "    </tr>\n",
       "    <tr>\n",
       "      <th>3</th>\n",
       "      <td>Clemson</td>\n",
       "      <td>0.125887</td>\n",
       "    </tr>\n",
       "    <tr>\n",
       "      <th>4</th>\n",
       "      <td>Navy</td>\n",
       "      <td>0.108147</td>\n",
       "    </tr>\n",
       "    <tr>\n",
       "      <th>5</th>\n",
       "      <td>Air Force</td>\n",
       "      <td>0.108034</td>\n",
       "    </tr>\n",
       "    <tr>\n",
       "      <th>6</th>\n",
       "      <td>Memphis</td>\n",
       "      <td>0.104357</td>\n",
       "    </tr>\n",
       "    <tr>\n",
       "      <th>7</th>\n",
       "      <td>Ohio State</td>\n",
       "      <td>0.089931</td>\n",
       "    </tr>\n",
       "    <tr>\n",
       "      <th>8</th>\n",
       "      <td>Ohio</td>\n",
       "      <td>0.081479</td>\n",
       "    </tr>\n",
       "    <tr>\n",
       "      <th>9</th>\n",
       "      <td>Army</td>\n",
       "      <td>0.081005</td>\n",
       "    </tr>\n",
       "  </tbody>\n",
       "</table>\n",
       "</div>"
      ],
      "text/plain": [
       "  offense_play   off_epa\n",
       "0     Oklahoma  0.178043\n",
       "1      Alabama  0.171099\n",
       "2      Hawai'i  0.139878\n",
       "3      Clemson  0.125887\n",
       "4         Navy  0.108147\n",
       "5    Air Force  0.108034\n",
       "6      Memphis  0.104357\n",
       "7   Ohio State  0.089931\n",
       "8         Ohio  0.081479\n",
       "9         Army  0.081005"
      ]
     },
     "execution_count": 194,
     "metadata": {},
     "output_type": "execute_result"
    }
   ],
   "source": [
    "#top offensive teams\n",
    "epa_play.sort_values('off_epa', ascending = False)[['offense_play', 'off_epa']].reset_index(drop = True).head(10)"
   ]
  },
  {
   "cell_type": "code",
   "execution_count": 154,
   "metadata": {},
   "outputs": [
    {
     "name": "stderr",
     "output_type": "stream",
     "text": [
      "No handles with labels found to put in legend.\n"
     ]
    },
    {
     "data": {
      "text/plain": [
       "<matplotlib.legend.Legend at 0x20b81bb5760>"
      ]
     },
     "execution_count": 154,
     "metadata": {},
     "output_type": "execute_result"
    },
    {
     "data": {
      "image/png": "[encoded data removed]",
      "text/plain": [
       "<Figure size 432x288 with 1 Axes>"
      ]
     },
     "metadata": {
      "needs_background": "light"
     },
     "output_type": "display_data"
    }
   ],
   "source": [
    "#plot raw model outputs changing down and field position -- not from play by play \n",
    "for j in range(1, 5):\n",
    "    ep_field_position = list(range(10, 100))\n",
    "    for i in range(10, 100):\n",
    "        ep_field_position[i - 10] = ep(j, 10, i)[0]\n",
    "    sns.lineplot(x = range(10, 100), y = ep_field_position)    \n",
    "plt.xlabel('Yards to Goal')\n",
    "plt.ylabel('Average Expected Points')\n",
    "plt.title('Expected Points by Down')"
   ]
  }
 ],
 "metadata": {
  "kernelspec": {
   "display_name": "Python 3",
   "language": "python",
   "name": "python3"
  },
  "language_info": {
   "codemirror_mode": {
    "name": "ipython",
    "version": 3
   },
   "file_extension": ".py",
   "mimetype": "text/x-python",
   "name": "python",
   "nbconvert_exporter": "python",
   "pygments_lexer": "ipython3",
   "version": "3.8.3"
  }
 },
 "nbformat": 4,
 "nbformat_minor": 4
}
